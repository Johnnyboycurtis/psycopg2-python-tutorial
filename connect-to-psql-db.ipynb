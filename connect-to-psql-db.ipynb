{
 "cells": [
  {
   "cell_type": "markdown",
   "metadata": {},
   "source": [
    "# Connect to PostgreSQL database\n",
    "\n",
    "An database called *analytics* exists. Connect to *analytics*\n",
    "\n",
    "\n",
    "1. Install psycopg2\n",
    "    - conda install -c anaconda psycopg2\n",
    "    - pip install psycopg2\n",
    "\n",
    "2. Store secrets (e.g. JSON object)\n",
    "\n",
    "3. Create a database connection \n",
    "\n",
    "4. Create cursor\n"
   ]
  },
  {
   "cell_type": "code",
   "execution_count": 15,
   "metadata": {},
   "outputs": [],
   "source": [
    "import psycopg2\n",
    "import pandas as pd\n",
    "from aws_secrets import get_secret"
   ]
  },
  {
   "cell_type": "code",
   "execution_count": null,
   "metadata": {},
   "outputs": [],
   "source": []
  },
  {
   "cell_type": "code",
   "execution_count": 16,
   "metadata": {},
   "outputs": [],
   "source": [
    "def create_rw_conn(secrets):\n",
    "    # pass along secrets to pyscopg2\n",
    "    ENDPOINT = secrets['ENDPOINT']\n",
    "    PORT = secrets['PORT']\n",
    "    USER = secrets['USER']\n",
    "    PASSWORD = secrets['PASSWORD']\n",
    "    DATABASE = secrets['DATABASE']\n",
    "    \n",
    "    # create connection string    \n",
    "    conn = psycopg2.connect(host=ENDPOINT, port=PORT, user=USER, \n",
    "        database=DATABASE, password=PASSWORD, sslmode='prefer', \n",
    "        sslrootcert=\"[full path]rds-combined-ca-bundle.pem\")\n",
    "    return conn\n",
    "\n"
   ]
  },
  {
   "cell_type": "code",
   "execution_count": 17,
   "metadata": {},
   "outputs": [],
   "source": [
    "# connect using a read/write user\n",
    "secrets = get_secret()\n",
    "conn = create_rw_conn(secrets=secrets)"
   ]
  },
  {
   "cell_type": "code",
   "execution_count": 18,
   "metadata": {},
   "outputs": [],
   "source": [
    "# Open a cursor to perform database operations\n",
    "cur = conn.cursor()"
   ]
  },
  {
   "cell_type": "code",
   "execution_count": 19,
   "metadata": {},
   "outputs": [],
   "source": [
    "# table: analytics\n",
    "# schema: texas\n",
    "# table: weather\n",
    "cur.execute(\"SELECT * FROM texas.weather_county;\")"
   ]
  },
  {
   "cell_type": "code",
   "execution_count": 20,
   "metadata": {},
   "outputs": [
    {
     "data": {
      "text/plain": [
       "[(1,\n",
       "  '48225',\n",
       "  'Houston',\n",
       "  Decimal('69'),\n",
       "  True,\n",
       "  datetime.datetime(2022, 11, 25, 5, 19, 15, 914938),\n",
       "  datetime.datetime(2022, 11, 25, 5, 19, 15, 914938)),\n",
       " (2,\n",
       "  '48019',\n",
       "  'Bandera',\n",
       "  Decimal('71'),\n",
       "  True,\n",
       "  datetime.datetime(2022, 11, 25, 5, 19, 15, 914938),\n",
       "  datetime.datetime(2022, 11, 25, 5, 19, 15, 914938)),\n",
       " (3,\n",
       "  '48113',\n",
       "  'Dallas',\n",
       "  Decimal('71'),\n",
       "  True,\n",
       "  datetime.datetime(2022, 11, 25, 5, 19, 15, 914938),\n",
       "  datetime.datetime(2022, 11, 25, 5, 19, 15, 914938))]"
      ]
     },
     "execution_count": 20,
     "metadata": {},
     "output_type": "execute_result"
    }
   ],
   "source": [
    "cur.fetchmany(3) # fetch 3 records from the query\n",
    "# cur.fetchall()\n",
    "# cur.fetchone()"
   ]
  },
  {
   "cell_type": "code",
   "execution_count": null,
   "metadata": {},
   "outputs": [],
   "source": []
  },
  {
   "cell_type": "code",
   "execution_count": null,
   "metadata": {},
   "outputs": [],
   "source": []
  },
  {
   "cell_type": "code",
   "execution_count": 21,
   "metadata": {},
   "outputs": [],
   "source": [
    "def fetch_results(sql, conn):\n",
    "    cur = conn.cursor()\n",
    "    cur.execute(sql)\n",
    "    columns = [desc[0] for desc in cur.description]\n",
    "    df = pd.DataFrame(cur.fetchall(), columns=columns)\n",
    "    cur.close()\n",
    "    return df"
   ]
  },
  {
   "cell_type": "code",
   "execution_count": 22,
   "metadata": {},
   "outputs": [
    {
     "data": {
      "text/html": [
       "<div>\n",
       "<style scoped>\n",
       "    .dataframe tbody tr th:only-of-type {\n",
       "        vertical-align: middle;\n",
       "    }\n",
       "\n",
       "    .dataframe tbody tr th {\n",
       "        vertical-align: top;\n",
       "    }\n",
       "\n",
       "    .dataframe thead th {\n",
       "        text-align: right;\n",
       "    }\n",
       "</style>\n",
       "<table border=\"1\" class=\"dataframe\">\n",
       "  <thead>\n",
       "    <tr style=\"text-align: right;\">\n",
       "      <th></th>\n",
       "      <th>id</th>\n",
       "      <th>fips_code</th>\n",
       "      <th>county_name</th>\n",
       "      <th>temperature</th>\n",
       "      <th>fahrenheit</th>\n",
       "      <th>updated_at</th>\n",
       "      <th>created_at</th>\n",
       "    </tr>\n",
       "  </thead>\n",
       "  <tbody>\n",
       "    <tr>\n",
       "      <th>0</th>\n",
       "      <td>1</td>\n",
       "      <td>48225</td>\n",
       "      <td>Houston</td>\n",
       "      <td>69</td>\n",
       "      <td>True</td>\n",
       "      <td>2022-11-25 05:19:15.914938</td>\n",
       "      <td>2022-11-25 05:19:15.914938</td>\n",
       "    </tr>\n",
       "    <tr>\n",
       "      <th>1</th>\n",
       "      <td>2</td>\n",
       "      <td>48019</td>\n",
       "      <td>Bandera</td>\n",
       "      <td>71</td>\n",
       "      <td>True</td>\n",
       "      <td>2022-11-25 05:19:15.914938</td>\n",
       "      <td>2022-11-25 05:19:15.914938</td>\n",
       "    </tr>\n",
       "    <tr>\n",
       "      <th>2</th>\n",
       "      <td>3</td>\n",
       "      <td>48113</td>\n",
       "      <td>Dallas</td>\n",
       "      <td>71</td>\n",
       "      <td>True</td>\n",
       "      <td>2022-11-25 05:19:15.914938</td>\n",
       "      <td>2022-11-25 05:19:15.914938</td>\n",
       "    </tr>\n",
       "    <tr>\n",
       "      <th>3</th>\n",
       "      <td>4</td>\n",
       "      <td>48141</td>\n",
       "      <td>El Paso</td>\n",
       "      <td>71</td>\n",
       "      <td>True</td>\n",
       "      <td>2022-11-25 05:19:15.914938</td>\n",
       "      <td>2022-11-25 05:19:15.914938</td>\n",
       "    </tr>\n",
       "  </tbody>\n",
       "</table>\n",
       "</div>"
      ],
      "text/plain": [
       "   id fips_code county_name temperature  fahrenheit  \\\n",
       "0   1     48225     Houston          69        True   \n",
       "1   2     48019     Bandera          71        True   \n",
       "2   3     48113      Dallas          71        True   \n",
       "3   4     48141     El Paso          71        True   \n",
       "\n",
       "                  updated_at                 created_at  \n",
       "0 2022-11-25 05:19:15.914938 2022-11-25 05:19:15.914938  \n",
       "1 2022-11-25 05:19:15.914938 2022-11-25 05:19:15.914938  \n",
       "2 2022-11-25 05:19:15.914938 2022-11-25 05:19:15.914938  \n",
       "3 2022-11-25 05:19:15.914938 2022-11-25 05:19:15.914938  "
      ]
     },
     "execution_count": 22,
     "metadata": {},
     "output_type": "execute_result"
    }
   ],
   "source": [
    "sql = \"SELECT * FROM texas.weather_county;\"\n",
    "df = fetch_results(sql=sql, conn=conn)\n",
    "df.head(10)"
   ]
  },
  {
   "cell_type": "code",
   "execution_count": 10,
   "metadata": {},
   "outputs": [
    {
     "data": {
      "text/plain": [
       "count      4\n",
       "unique     2\n",
       "top       71\n",
       "freq       3\n",
       "Name: temperature, dtype: object"
      ]
     },
     "execution_count": 10,
     "metadata": {},
     "output_type": "execute_result"
    }
   ],
   "source": [
    "df['temperature'].describe()"
   ]
  },
  {
   "cell_type": "code",
   "execution_count": null,
   "metadata": {},
   "outputs": [],
   "source": []
  },
  {
   "cell_type": "code",
   "execution_count": null,
   "metadata": {},
   "outputs": [],
   "source": []
  }
 ],
 "metadata": {
  "kernelspec": {
   "display_name": "Python 3.10.6 ('psql_tutorial')",
   "language": "python",
   "name": "python3"
  },
  "language_info": {
   "codemirror_mode": {
    "name": "ipython",
    "version": 3
   },
   "file_extension": ".py",
   "mimetype": "text/x-python",
   "name": "python",
   "nbconvert_exporter": "python",
   "pygments_lexer": "ipython3",
   "version": "3.10.6"
  },
  "orig_nbformat": 4,
  "vscode": {
   "interpreter": {
    "hash": "efd12a4f869bcc27cd9cdce8a660fbaed1d150e1d85bd9a36a532b135a54a3b2"
   }
  }
 },
 "nbformat": 4,
 "nbformat_minor": 2
}
