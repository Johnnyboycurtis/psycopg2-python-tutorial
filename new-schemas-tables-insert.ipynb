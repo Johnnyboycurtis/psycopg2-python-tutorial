{
 "cells": [
  {
   "cell_type": "markdown",
   "metadata": {},
   "source": [
    "# New Schemas/Tables\n",
    "\n",
    "From an existing data source, create new schemas/tables and insert the new data\n",
    "\n",
    "When creating new schemas and tables we need to `commit` changes with `psycopg2` connections"
   ]
  },
  {
   "cell_type": "code",
   "execution_count": null,
   "metadata": {},
   "outputs": [],
   "source": [
    "import psycopg2\n",
    "import pandas as pd\n",
    "from aws_secrets import get_secret"
   ]
  },
  {
   "cell_type": "code",
   "execution_count": null,
   "metadata": {},
   "outputs": [],
   "source": [
    "def create_rw_conn(secrets):\n",
    "    # pass along secrets to pyscopg2\n",
    "    ENDPOINT = secrets['ENDPOINT']\n",
    "    PORT = secrets['PORT']\n",
    "    USER = secrets['USER']\n",
    "    PASSWORD = secrets['PASSWORD']\n",
    "    DATABASE = secrets['DATABASE']\n",
    "    \n",
    "    # create connection string    \n",
    "    conn = psycopg2.connect(host=ENDPOINT, port=PORT, user=USER, \n",
    "        database=DATABASE, password=PASSWORD, sslmode='prefer', \n",
    "        sslrootcert=\"[full path]rds-combined-ca-bundle.pem\")\n",
    "    return conn\n",
    "\n",
    "\n",
    "def fetch_results(sql, conn):\n",
    "    cur = conn.cursor()\n",
    "    cur.execute(sql)\n",
    "    columns = [desc[0] for desc in cur.description]\n",
    "    df = pd.DataFrame(cur.fetchall(), columns=columns)\n",
    "    cur.close()\n",
    "    return df\n",
    "\n",
    "\n",
    "def exec_sql(sql, conn, commit_changes=False):\n",
    "    cur = conn.cursor()\n",
    "    cur.execute(sql)\n",
    "    if commit_changes:\n",
    "        conn.commit() # <- We MUST commit to reflect the inserted data\n",
    "    cur.close()\n",
    "    return \"Success :)\""
   ]
  },
  {
   "cell_type": "code",
   "execution_count": null,
   "metadata": {},
   "outputs": [],
   "source": [
    "# create connection\n",
    "secrets = get_secret()\n",
    "conn = create_rw_conn(secrets=secrets)"
   ]
  },
  {
   "cell_type": "code",
   "execution_count": null,
   "metadata": {},
   "outputs": [],
   "source": []
  },
  {
   "cell_type": "code",
   "execution_count": null,
   "metadata": {},
   "outputs": [],
   "source": []
  },
  {
   "cell_type": "markdown",
   "metadata": {},
   "source": [
    "## Load new data"
   ]
  },
  {
   "cell_type": "code",
   "execution_count": null,
   "metadata": {},
   "outputs": [],
   "source": [
    "new_weather_data = pd.read_csv(\"new-weather-data.csv\", dtype={'fips_code':str})\n",
    "new_weather_data"
   ]
  },
  {
   "cell_type": "code",
   "execution_count": null,
   "metadata": {},
   "outputs": [],
   "source": [
    "new_weather_data['state'].value_counts()"
   ]
  },
  {
   "cell_type": "code",
   "execution_count": null,
   "metadata": {},
   "outputs": [],
   "source": [
    "# remap state\n",
    "new_weather_data['state'] = new_weather_data['state'].map({'CA': 'california', 'TX': 'texas', 'NY': 'newyork'})\n",
    "new_weather_data.head()"
   ]
  },
  {
   "cell_type": "code",
   "execution_count": null,
   "metadata": {},
   "outputs": [],
   "source": [
    "# new_weather_data['state'] = new_weather_data['state'].map({'california': 'CA', 'texas': 'TX', 'newyork': 'NY'})"
   ]
  },
  {
   "cell_type": "code",
   "execution_count": null,
   "metadata": {},
   "outputs": [],
   "source": []
  },
  {
   "cell_type": "code",
   "execution_count": null,
   "metadata": {},
   "outputs": [],
   "source": []
  },
  {
   "cell_type": "markdown",
   "metadata": {},
   "source": [
    "### Create new schemas and tables"
   ]
  },
  {
   "cell_type": "code",
   "execution_count": null,
   "metadata": {},
   "outputs": [],
   "source": [
    "sql_create_schema = \"\"\"\n",
    "    CREATE SCHEMA IF NOT EXISTS {state};\n",
    "    \"\"\""
   ]
  },
  {
   "cell_type": "code",
   "execution_count": null,
   "metadata": {},
   "outputs": [],
   "source": [
    "sql_create_table = \"\"\"\n",
    "    CREATE TABLE IF NOT EXISTS {state}.weather_county (\n",
    "                id serial PRIMARY KEY,\n",
    "                fips_code varchar(10) UNIQUE,\n",
    "                county_name varchar(20),\n",
    "                temperature numeric NOT NULL,\n",
    "                fahrenheit bool DEFAULT true,\n",
    "                updated_at timestamp default now(),\n",
    "                created_at timestamp default now()\n",
    "            );\n",
    "\"\"\""
   ]
  },
  {
   "cell_type": "code",
   "execution_count": null,
   "metadata": {},
   "outputs": [],
   "source": [
    "grouped = new_weather_data.groupby(by='state')"
   ]
  },
  {
   "cell_type": "code",
   "execution_count": null,
   "metadata": {},
   "outputs": [],
   "source": [
    "for state, df in grouped:\n",
    "    # don't forget to commit changes!!\n",
    "    exec_sql(sql_create_schema.format(state=state), conn=conn, commit_changes=True)\n",
    "    exec_sql(sql_create_table.format(state=state), conn=conn, commit_changes=True)\n",
    "    print(\"[{}] schema + table created\".format(state))"
   ]
  },
  {
   "cell_type": "code",
   "execution_count": null,
   "metadata": {},
   "outputs": [],
   "source": []
  },
  {
   "cell_type": "code",
   "execution_count": null,
   "metadata": {},
   "outputs": [],
   "source": []
  },
  {
   "cell_type": "markdown",
   "metadata": {},
   "source": [
    "### Check if new schemas/tables were successfully created"
   ]
  },
  {
   "cell_type": "code",
   "execution_count": null,
   "metadata": {},
   "outputs": [],
   "source": [
    "sql = \"\"\"\n",
    "    SELECT s.catalog_name, s.schema_owner, s.schema_name, t.table_name\n",
    "    FROM information_schema.schemata s\n",
    "    JOIN information_schema.tables t ON s.catalog_name = t.table_catalog and s.schema_name = t.table_schema\n",
    "    WHERE schema_owner = 'johnnyboycurtis';\n",
    "    \"\"\"\n",
    "\n",
    "fetch_results(sql=sql, conn=conn)"
   ]
  },
  {
   "cell_type": "code",
   "execution_count": null,
   "metadata": {},
   "outputs": [],
   "source": [
    "# close connection to prevent conflicts\n",
    "conn.close()"
   ]
  },
  {
   "cell_type": "markdown",
   "metadata": {},
   "source": [
    "### Insert new data/update existing data"
   ]
  },
  {
   "cell_type": "code",
   "execution_count": null,
   "metadata": {},
   "outputs": [],
   "source": [
    "from psycopg2.extras import execute_values"
   ]
  },
  {
   "cell_type": "code",
   "execution_count": null,
   "metadata": {},
   "outputs": [],
   "source": [
    "# new connection\n",
    "conn = create_rw_conn(secrets=secrets)"
   ]
  },
  {
   "cell_type": "code",
   "execution_count": null,
   "metadata": {},
   "outputs": [],
   "source": [
    "sql_insert = \"\"\"    \n",
    "    INSERT INTO {state}.weather_county(fips_code, county_name, temperature)\n",
    "    VALUES %s\n",
    "    ON CONFLICT (fips_code) DO UPDATE\n",
    "    SET\n",
    "        temperature=excluded.temperature,\n",
    "        updated_at=NOW()\n",
    "    ;\"\"\""
   ]
  },
  {
   "cell_type": "code",
   "execution_count": null,
   "metadata": {},
   "outputs": [],
   "source": [
    "# test\n",
    "#new_weather_data = new_weather_data.loc[new_weather_data['state'] == 'texas']\n",
    "#new_weather_data"
   ]
  },
  {
   "cell_type": "code",
   "execution_count": null,
   "metadata": {},
   "outputs": [],
   "source": [
    "grouped = new_weather_data.groupby(by='state')\n",
    "\n",
    "conn = create_rw_conn(secrets=secrets)"
   ]
  },
  {
   "cell_type": "code",
   "execution_count": null,
   "metadata": {},
   "outputs": [],
   "source": [
    "for state, df in grouped:\n",
    "    # select only the neccessary columns\n",
    "    df = df[['fips_code', 'county_name', 'temperature']]\n",
    "    print(\"[{}] upsert...\".format(state))\n",
    "    # convert dataframe into list of lists for `execute_values`\n",
    "    data = [tuple(x) for x in df.values.tolist()]\n",
    "    cur = conn.cursor()\n",
    "    execute_values(cur, sql_insert.format(state=state), data)\n",
    "    conn.commit() # <- We MUST commit to reflect the inserted data\n",
    "    print(\"[{}] changes were commited...\".format(state))\n",
    "    cur.close()"
   ]
  },
  {
   "cell_type": "code",
   "execution_count": null,
   "metadata": {},
   "outputs": [],
   "source": []
  },
  {
   "cell_type": "markdown",
   "metadata": {},
   "source": [
    "### Review data"
   ]
  },
  {
   "cell_type": "code",
   "execution_count": null,
   "metadata": {},
   "outputs": [],
   "source": [
    "sql = \"SELECT * FROM california.weather_county;\"\n",
    "df = fetch_results(sql=sql, conn=conn)\n",
    "df.head(10)"
   ]
  },
  {
   "cell_type": "code",
   "execution_count": null,
   "metadata": {},
   "outputs": [],
   "source": []
  },
  {
   "cell_type": "code",
   "execution_count": null,
   "metadata": {},
   "outputs": [],
   "source": []
  },
  {
   "cell_type": "code",
   "execution_count": null,
   "metadata": {},
   "outputs": [],
   "source": []
  }
 ],
 "metadata": {
  "kernelspec": {
   "display_name": "Python 3.10.6 ('psql_tutorial')",
   "language": "python",
   "name": "python3"
  },
  "language_info": {
   "codemirror_mode": {
    "name": "ipython",
    "version": 3
   },
   "file_extension": ".py",
   "mimetype": "text/x-python",
   "name": "python",
   "nbconvert_exporter": "python",
   "pygments_lexer": "ipython3",
   "version": "3.10.6"
  },
  "orig_nbformat": 4,
  "vscode": {
   "interpreter": {
    "hash": "efd12a4f869bcc27cd9cdce8a660fbaed1d150e1d85bd9a36a532b135a54a3b2"
   }
  }
 },
 "nbformat": 4,
 "nbformat_minor": 2
}
