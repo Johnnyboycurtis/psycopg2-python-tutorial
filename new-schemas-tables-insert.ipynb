{
 "cells": [
  {
   "cell_type": "markdown",
   "metadata": {},
   "source": [
    "# New Schemas/Tables\n",
    "\n",
    "From an existing data source, create new schemas/tables and insert the new data\n",
    "\n",
    "When creating new schemas and tables we need to `commit` changes with `psycopg2` connections"
   ]
  },
  {
   "cell_type": "code",
   "execution_count": 1,
   "metadata": {},
   "outputs": [],
   "source": [
    "import psycopg2\n",
    "import pandas as pd\n",
    "from aws_secrets import get_secret"
   ]
  },
  {
   "cell_type": "code",
   "execution_count": 2,
   "metadata": {},
   "outputs": [],
   "source": [
    "def create_rw_conn(secrets):\n",
    "    # pass along secrets to pyscopg2\n",
    "    ENDPOINT = secrets['ENDPOINT']\n",
    "    PORT = secrets['PORT']\n",
    "    USER = secrets['USER']\n",
    "    PASSWORD = secrets['PASSWORD']\n",
    "    DATABASE = secrets['DATABASE']\n",
    "    \n",
    "    # create connection string    \n",
    "    conn = psycopg2.connect(host=ENDPOINT, port=PORT, user=USER, \n",
    "        database=DATABASE, password=PASSWORD, sslmode='prefer', \n",
    "        sslrootcert=\"[full path]rds-combined-ca-bundle.pem\")\n",
    "    return conn\n",
    "\n",
    "\n",
    "def fetch_results(sql, conn):\n",
    "    cur = conn.cursor()\n",
    "    cur.execute(sql)\n",
    "    columns = [desc[0] for desc in cur.description]\n",
    "    df = pd.DataFrame(cur.fetchall(), columns=columns)\n",
    "    cur.close()\n",
    "    return df\n",
    "\n",
    "\n",
    "def exec_sql(sql, conn, commit_changes=False):\n",
    "    cur = conn.cursor()\n",
    "    cur.execute(sql)\n",
    "    if commit_changes:\n",
    "        conn.commit() # <- We MUST commit to reflect the inserted data\n",
    "    cur.close()\n",
    "    return \"Success :)\""
   ]
  },
  {
   "cell_type": "code",
   "execution_count": 3,
   "metadata": {},
   "outputs": [],
   "source": [
    "# create connection\n",
    "secrets = get_secret()\n",
    "conn = create_rw_conn(secrets=secrets)"
   ]
  },
  {
   "cell_type": "code",
   "execution_count": null,
   "metadata": {},
   "outputs": [],
   "source": []
  },
  {
   "cell_type": "code",
   "execution_count": null,
   "metadata": {},
   "outputs": [],
   "source": []
  },
  {
   "cell_type": "markdown",
   "metadata": {},
   "source": [
    "## Load new data"
   ]
  },
  {
   "cell_type": "code",
   "execution_count": 4,
   "metadata": {},
   "outputs": [
    {
     "data": {
      "text/html": [
       "<div>\n",
       "<style scoped>\n",
       "    .dataframe tbody tr th:only-of-type {\n",
       "        vertical-align: middle;\n",
       "    }\n",
       "\n",
       "    .dataframe tbody tr th {\n",
       "        vertical-align: top;\n",
       "    }\n",
       "\n",
       "    .dataframe thead th {\n",
       "        text-align: right;\n",
       "    }\n",
       "</style>\n",
       "<table border=\"1\" class=\"dataframe\">\n",
       "  <thead>\n",
       "    <tr style=\"text-align: right;\">\n",
       "      <th></th>\n",
       "      <th>fips_code</th>\n",
       "      <th>county_name</th>\n",
       "      <th>state</th>\n",
       "      <th>temperature</th>\n",
       "    </tr>\n",
       "  </thead>\n",
       "  <tbody>\n",
       "    <tr>\n",
       "      <th>0</th>\n",
       "      <td>06075</td>\n",
       "      <td>San Francisco</td>\n",
       "      <td>CA</td>\n",
       "      <td>53.7</td>\n",
       "    </tr>\n",
       "    <tr>\n",
       "      <th>1</th>\n",
       "      <td>48235</td>\n",
       "      <td>Irion</td>\n",
       "      <td>TX</td>\n",
       "      <td>84.3</td>\n",
       "    </tr>\n",
       "    <tr>\n",
       "      <th>2</th>\n",
       "      <td>48309</td>\n",
       "      <td>McLennan</td>\n",
       "      <td>TX</td>\n",
       "      <td>86.3</td>\n",
       "    </tr>\n",
       "    <tr>\n",
       "      <th>3</th>\n",
       "      <td>48173</td>\n",
       "      <td>Glasscock</td>\n",
       "      <td>TX</td>\n",
       "      <td>83.4</td>\n",
       "    </tr>\n",
       "    <tr>\n",
       "      <th>4</th>\n",
       "      <td>48401</td>\n",
       "      <td>Rusk</td>\n",
       "      <td>TX</td>\n",
       "      <td>84.3</td>\n",
       "    </tr>\n",
       "    <tr>\n",
       "      <th>...</th>\n",
       "      <td>...</td>\n",
       "      <td>...</td>\n",
       "      <td>...</td>\n",
       "      <td>...</td>\n",
       "    </tr>\n",
       "    <tr>\n",
       "      <th>60</th>\n",
       "      <td>06111</td>\n",
       "      <td>Ventura</td>\n",
       "      <td>CA</td>\n",
       "      <td>75.2</td>\n",
       "    </tr>\n",
       "    <tr>\n",
       "      <th>61</th>\n",
       "      <td>48295</td>\n",
       "      <td>Lipscomb</td>\n",
       "      <td>TX</td>\n",
       "      <td>65.4</td>\n",
       "    </tr>\n",
       "    <tr>\n",
       "      <th>62</th>\n",
       "      <td>06029</td>\n",
       "      <td>Kern</td>\n",
       "      <td>CA</td>\n",
       "      <td>83.2</td>\n",
       "    </tr>\n",
       "    <tr>\n",
       "      <th>63</th>\n",
       "      <td>06053</td>\n",
       "      <td>Monterey</td>\n",
       "      <td>CA</td>\n",
       "      <td>74.8</td>\n",
       "    </tr>\n",
       "    <tr>\n",
       "      <th>64</th>\n",
       "      <td>06069</td>\n",
       "      <td>San Benito</td>\n",
       "      <td>CA</td>\n",
       "      <td>76.2</td>\n",
       "    </tr>\n",
       "  </tbody>\n",
       "</table>\n",
       "<p>65 rows × 4 columns</p>\n",
       "</div>"
      ],
      "text/plain": [
       "   fips_code    county_name state  temperature\n",
       "0      06075  San Francisco    CA         53.7\n",
       "1      48235          Irion    TX         84.3\n",
       "2      48309       McLennan    TX         86.3\n",
       "3      48173      Glasscock    TX         83.4\n",
       "4      48401           Rusk    TX         84.3\n",
       "..       ...            ...   ...          ...\n",
       "60     06111        Ventura    CA         75.2\n",
       "61     48295       Lipscomb    TX         65.4\n",
       "62     06029           Kern    CA         83.2\n",
       "63     06053       Monterey    CA         74.8\n",
       "64     06069     San Benito    CA         76.2\n",
       "\n",
       "[65 rows x 4 columns]"
      ]
     },
     "execution_count": 4,
     "metadata": {},
     "output_type": "execute_result"
    }
   ],
   "source": [
    "new_weather_data = pd.read_csv(\"data/new-weather-data.csv\", dtype={'fips_code':str})\n",
    "new_weather_data"
   ]
  },
  {
   "cell_type": "code",
   "execution_count": 5,
   "metadata": {},
   "outputs": [
    {
     "data": {
      "text/plain": [
       "TX    39\n",
       "CA    13\n",
       "NY    13\n",
       "Name: state, dtype: int64"
      ]
     },
     "execution_count": 5,
     "metadata": {},
     "output_type": "execute_result"
    }
   ],
   "source": [
    "new_weather_data['state'].value_counts()"
   ]
  },
  {
   "cell_type": "code",
   "execution_count": 6,
   "metadata": {},
   "outputs": [
    {
     "data": {
      "text/html": [
       "<div>\n",
       "<style scoped>\n",
       "    .dataframe tbody tr th:only-of-type {\n",
       "        vertical-align: middle;\n",
       "    }\n",
       "\n",
       "    .dataframe tbody tr th {\n",
       "        vertical-align: top;\n",
       "    }\n",
       "\n",
       "    .dataframe thead th {\n",
       "        text-align: right;\n",
       "    }\n",
       "</style>\n",
       "<table border=\"1\" class=\"dataframe\">\n",
       "  <thead>\n",
       "    <tr style=\"text-align: right;\">\n",
       "      <th></th>\n",
       "      <th>fips_code</th>\n",
       "      <th>county_name</th>\n",
       "      <th>state</th>\n",
       "      <th>temperature</th>\n",
       "    </tr>\n",
       "  </thead>\n",
       "  <tbody>\n",
       "    <tr>\n",
       "      <th>0</th>\n",
       "      <td>06075</td>\n",
       "      <td>San Francisco</td>\n",
       "      <td>california</td>\n",
       "      <td>53.7</td>\n",
       "    </tr>\n",
       "    <tr>\n",
       "      <th>1</th>\n",
       "      <td>48235</td>\n",
       "      <td>Irion</td>\n",
       "      <td>texas</td>\n",
       "      <td>84.3</td>\n",
       "    </tr>\n",
       "    <tr>\n",
       "      <th>2</th>\n",
       "      <td>48309</td>\n",
       "      <td>McLennan</td>\n",
       "      <td>texas</td>\n",
       "      <td>86.3</td>\n",
       "    </tr>\n",
       "    <tr>\n",
       "      <th>3</th>\n",
       "      <td>48173</td>\n",
       "      <td>Glasscock</td>\n",
       "      <td>texas</td>\n",
       "      <td>83.4</td>\n",
       "    </tr>\n",
       "    <tr>\n",
       "      <th>4</th>\n",
       "      <td>48401</td>\n",
       "      <td>Rusk</td>\n",
       "      <td>texas</td>\n",
       "      <td>84.3</td>\n",
       "    </tr>\n",
       "  </tbody>\n",
       "</table>\n",
       "</div>"
      ],
      "text/plain": [
       "  fips_code    county_name       state  temperature\n",
       "0     06075  San Francisco  california         53.7\n",
       "1     48235          Irion       texas         84.3\n",
       "2     48309       McLennan       texas         86.3\n",
       "3     48173      Glasscock       texas         83.4\n",
       "4     48401           Rusk       texas         84.3"
      ]
     },
     "execution_count": 6,
     "metadata": {},
     "output_type": "execute_result"
    }
   ],
   "source": [
    "# remap state\n",
    "new_weather_data['state'] = new_weather_data['state'].map({'CA': 'california', 'TX': 'texas', 'NY': 'newyork'})\n",
    "new_weather_data.head()"
   ]
  },
  {
   "cell_type": "code",
   "execution_count": 7,
   "metadata": {},
   "outputs": [],
   "source": [
    "# new_weather_data['state'] = new_weather_data['state'].map({'california': 'CA', 'texas': 'TX', 'newyork': 'NY'})"
   ]
  },
  {
   "cell_type": "code",
   "execution_count": null,
   "metadata": {},
   "outputs": [],
   "source": []
  },
  {
   "cell_type": "code",
   "execution_count": null,
   "metadata": {},
   "outputs": [],
   "source": []
  },
  {
   "cell_type": "markdown",
   "metadata": {},
   "source": [
    "### Create new schemas and tables"
   ]
  },
  {
   "cell_type": "code",
   "execution_count": 8,
   "metadata": {},
   "outputs": [],
   "source": [
    "sql_create_schema = \"\"\"\n",
    "    CREATE SCHEMA IF NOT EXISTS {state};\n",
    "    \"\"\""
   ]
  },
  {
   "cell_type": "code",
   "execution_count": 9,
   "metadata": {},
   "outputs": [],
   "source": [
    "sql_create_table = \"\"\"\n",
    "    CREATE TABLE IF NOT EXISTS {state}.weather_county (\n",
    "                id serial PRIMARY KEY,\n",
    "                fips_code varchar(10) UNIQUE,\n",
    "                county_name varchar(20),\n",
    "                temperature numeric NOT NULL,\n",
    "                fahrenheit bool DEFAULT true,\n",
    "                updated_at timestamp default now(),\n",
    "                created_at timestamp default now()\n",
    "            );\n",
    "    \"\"\""
   ]
  },
  {
   "cell_type": "code",
   "execution_count": 10,
   "metadata": {},
   "outputs": [],
   "source": [
    "grouped = new_weather_data.groupby(by='state')"
   ]
  },
  {
   "cell_type": "code",
   "execution_count": 11,
   "metadata": {},
   "outputs": [
    {
     "name": "stdout",
     "output_type": "stream",
     "text": [
      "[california] schema + table created\n",
      "[newyork] schema + table created\n",
      "[texas] schema + table created\n"
     ]
    }
   ],
   "source": [
    "for state, df in grouped:\n",
    "    # don't forget to commit changes!!\n",
    "    exec_sql(sql_create_schema.format(state=state), conn=conn, commit_changes=True)\n",
    "    exec_sql(sql_create_table.format(state=state), conn=conn, commit_changes=True)\n",
    "    print(\"[{}] schema + table created\".format(state))"
   ]
  },
  {
   "cell_type": "code",
   "execution_count": null,
   "metadata": {},
   "outputs": [],
   "source": []
  },
  {
   "cell_type": "code",
   "execution_count": null,
   "metadata": {},
   "outputs": [],
   "source": []
  },
  {
   "cell_type": "markdown",
   "metadata": {},
   "source": [
    "### Check if new schemas/tables were successfully created"
   ]
  },
  {
   "cell_type": "code",
   "execution_count": 12,
   "metadata": {},
   "outputs": [
    {
     "data": {
      "text/html": [
       "<div>\n",
       "<style scoped>\n",
       "    .dataframe tbody tr th:only-of-type {\n",
       "        vertical-align: middle;\n",
       "    }\n",
       "\n",
       "    .dataframe tbody tr th {\n",
       "        vertical-align: top;\n",
       "    }\n",
       "\n",
       "    .dataframe thead th {\n",
       "        text-align: right;\n",
       "    }\n",
       "</style>\n",
       "<table border=\"1\" class=\"dataframe\">\n",
       "  <thead>\n",
       "    <tr style=\"text-align: right;\">\n",
       "      <th></th>\n",
       "      <th>catalog_name</th>\n",
       "      <th>schema_owner</th>\n",
       "      <th>schema_name</th>\n",
       "      <th>table_name</th>\n",
       "    </tr>\n",
       "  </thead>\n",
       "  <tbody>\n",
       "    <tr>\n",
       "      <th>0</th>\n",
       "      <td>analytics</td>\n",
       "      <td>johnnyboycurtis</td>\n",
       "      <td>texas</td>\n",
       "      <td>weather_county</td>\n",
       "    </tr>\n",
       "    <tr>\n",
       "      <th>1</th>\n",
       "      <td>analytics</td>\n",
       "      <td>johnnyboycurtis</td>\n",
       "      <td>california</td>\n",
       "      <td>weather_county</td>\n",
       "    </tr>\n",
       "    <tr>\n",
       "      <th>2</th>\n",
       "      <td>analytics</td>\n",
       "      <td>johnnyboycurtis</td>\n",
       "      <td>newyork</td>\n",
       "      <td>weather_county</td>\n",
       "    </tr>\n",
       "  </tbody>\n",
       "</table>\n",
       "</div>"
      ],
      "text/plain": [
       "  catalog_name     schema_owner schema_name      table_name\n",
       "0    analytics  johnnyboycurtis       texas  weather_county\n",
       "1    analytics  johnnyboycurtis  california  weather_county\n",
       "2    analytics  johnnyboycurtis     newyork  weather_county"
      ]
     },
     "execution_count": 12,
     "metadata": {},
     "output_type": "execute_result"
    }
   ],
   "source": [
    "sql = \"\"\"\n",
    "    SELECT s.catalog_name, s.schema_owner, s.schema_name, t.table_name\n",
    "    FROM information_schema.schemata s\n",
    "    JOIN information_schema.tables t ON s.catalog_name = t.table_catalog and s.schema_name = t.table_schema\n",
    "    WHERE schema_owner = 'johnnyboycurtis';\n",
    "    \"\"\"\n",
    "\n",
    "fetch_results(sql=sql, conn=conn)"
   ]
  },
  {
   "cell_type": "code",
   "execution_count": 13,
   "metadata": {},
   "outputs": [],
   "source": [
    "# close connection to prevent conflicts\n",
    "conn.close()"
   ]
  },
  {
   "cell_type": "markdown",
   "metadata": {},
   "source": [
    "### Insert new data/update existing data"
   ]
  },
  {
   "cell_type": "code",
   "execution_count": 14,
   "metadata": {},
   "outputs": [],
   "source": [
    "from psycopg2.extras import execute_values"
   ]
  },
  {
   "cell_type": "code",
   "execution_count": 15,
   "metadata": {},
   "outputs": [],
   "source": [
    "# new connection\n",
    "conn = create_rw_conn(secrets=secrets)"
   ]
  },
  {
   "cell_type": "code",
   "execution_count": 16,
   "metadata": {},
   "outputs": [],
   "source": [
    "sql_insert = \"\"\"    \n",
    "    INSERT INTO {state}.weather_county(fips_code, county_name, temperature)\n",
    "    VALUES %s\n",
    "    ON CONFLICT (fips_code) DO UPDATE\n",
    "    SET\n",
    "        temperature=excluded.temperature,\n",
    "        updated_at=NOW()\n",
    "    ;\n",
    "    \"\"\""
   ]
  },
  {
   "cell_type": "code",
   "execution_count": 17,
   "metadata": {},
   "outputs": [],
   "source": [
    "# test\n",
    "#new_weather_data = new_weather_data.loc[new_weather_data['state'] == 'texas']\n",
    "#new_weather_data"
   ]
  },
  {
   "cell_type": "code",
   "execution_count": 18,
   "metadata": {},
   "outputs": [],
   "source": [
    "grouped = new_weather_data.groupby(by='state')\n",
    "\n",
    "conn = create_rw_conn(secrets=secrets)"
   ]
  },
  {
   "cell_type": "code",
   "execution_count": 19,
   "metadata": {},
   "outputs": [
    {
     "name": "stdout",
     "output_type": "stream",
     "text": [
      "[california] upsert...\n",
      "[california] changes were commited...\n",
      "[newyork] upsert...\n",
      "[newyork] changes were commited...\n",
      "[texas] upsert...\n",
      "[texas] changes were commited...\n"
     ]
    }
   ],
   "source": [
    "for state, df in grouped:\n",
    "    # select only the neccessary columns\n",
    "    df = df[['fips_code', 'county_name', 'temperature']]\n",
    "    print(\"[{}] upsert...\".format(state))\n",
    "    # convert dataframe into list of lists for `execute_values`\n",
    "    data = [tuple(x) for x in df.values.tolist()]\n",
    "    cur = conn.cursor()\n",
    "    execute_values(cur, sql_insert.format(state=state), data)\n",
    "    conn.commit() # <- We MUST commit to reflect the inserted data\n",
    "    print(\"[{}] changes were commited...\".format(state))\n",
    "    cur.close()"
   ]
  },
  {
   "cell_type": "code",
   "execution_count": null,
   "metadata": {},
   "outputs": [],
   "source": []
  },
  {
   "cell_type": "markdown",
   "metadata": {},
   "source": [
    "### Review data"
   ]
  },
  {
   "cell_type": "code",
   "execution_count": 20,
   "metadata": {},
   "outputs": [
    {
     "data": {
      "text/html": [
       "<div>\n",
       "<style scoped>\n",
       "    .dataframe tbody tr th:only-of-type {\n",
       "        vertical-align: middle;\n",
       "    }\n",
       "\n",
       "    .dataframe tbody tr th {\n",
       "        vertical-align: top;\n",
       "    }\n",
       "\n",
       "    .dataframe thead th {\n",
       "        text-align: right;\n",
       "    }\n",
       "</style>\n",
       "<table border=\"1\" class=\"dataframe\">\n",
       "  <thead>\n",
       "    <tr style=\"text-align: right;\">\n",
       "      <th></th>\n",
       "      <th>id</th>\n",
       "      <th>fips_code</th>\n",
       "      <th>county_name</th>\n",
       "      <th>temperature</th>\n",
       "      <th>fahrenheit</th>\n",
       "      <th>updated_at</th>\n",
       "      <th>created_at</th>\n",
       "    </tr>\n",
       "  </thead>\n",
       "  <tbody>\n",
       "    <tr>\n",
       "      <th>0</th>\n",
       "      <td>3</td>\n",
       "      <td>06075</td>\n",
       "      <td>San Francisco</td>\n",
       "      <td>53.7</td>\n",
       "      <td>True</td>\n",
       "      <td>2022-11-25 22:54:28.716321</td>\n",
       "      <td>2022-11-25 21:26:01.829159</td>\n",
       "    </tr>\n",
       "    <tr>\n",
       "      <th>1</th>\n",
       "      <td>4</td>\n",
       "      <td>06071</td>\n",
       "      <td>San Bernardino</td>\n",
       "      <td>82.0</td>\n",
       "      <td>True</td>\n",
       "      <td>2022-11-25 22:54:28.716321</td>\n",
       "      <td>2022-11-25 21:26:01.829159</td>\n",
       "    </tr>\n",
       "    <tr>\n",
       "      <th>2</th>\n",
       "      <td>5</td>\n",
       "      <td>06107</td>\n",
       "      <td>Tulare</td>\n",
       "      <td>72.7</td>\n",
       "      <td>True</td>\n",
       "      <td>2022-11-25 22:54:28.716321</td>\n",
       "      <td>2022-11-25 21:26:01.829159</td>\n",
       "    </tr>\n",
       "    <tr>\n",
       "      <th>3</th>\n",
       "      <td>6</td>\n",
       "      <td>06001</td>\n",
       "      <td>Alameda</td>\n",
       "      <td>66.2</td>\n",
       "      <td>True</td>\n",
       "      <td>2022-11-25 22:54:28.716321</td>\n",
       "      <td>2022-11-25 21:26:01.829159</td>\n",
       "    </tr>\n",
       "    <tr>\n",
       "      <th>4</th>\n",
       "      <td>7</td>\n",
       "      <td>06035</td>\n",
       "      <td>Lassen</td>\n",
       "      <td>67.8</td>\n",
       "      <td>True</td>\n",
       "      <td>2022-11-25 22:54:28.716321</td>\n",
       "      <td>2022-11-25 21:26:01.829159</td>\n",
       "    </tr>\n",
       "    <tr>\n",
       "      <th>5</th>\n",
       "      <td>8</td>\n",
       "      <td>06113</td>\n",
       "      <td>Yolo</td>\n",
       "      <td>83.2</td>\n",
       "      <td>True</td>\n",
       "      <td>2022-11-25 22:54:28.716321</td>\n",
       "      <td>2022-11-25 21:26:01.829159</td>\n",
       "    </tr>\n",
       "    <tr>\n",
       "      <th>6</th>\n",
       "      <td>9</td>\n",
       "      <td>06063</td>\n",
       "      <td>Plumas</td>\n",
       "      <td>70.8</td>\n",
       "      <td>True</td>\n",
       "      <td>2022-11-25 22:54:28.716321</td>\n",
       "      <td>2022-11-25 21:26:01.829159</td>\n",
       "    </tr>\n",
       "    <tr>\n",
       "      <th>7</th>\n",
       "      <td>10</td>\n",
       "      <td>06073</td>\n",
       "      <td>San Diego</td>\n",
       "      <td>76.7</td>\n",
       "      <td>True</td>\n",
       "      <td>2022-11-25 22:54:28.716321</td>\n",
       "      <td>2022-11-25 21:26:01.829159</td>\n",
       "    </tr>\n",
       "    <tr>\n",
       "      <th>8</th>\n",
       "      <td>11</td>\n",
       "      <td>06059</td>\n",
       "      <td>Orange</td>\n",
       "      <td>73.2</td>\n",
       "      <td>True</td>\n",
       "      <td>2022-11-25 22:54:28.716321</td>\n",
       "      <td>2022-11-25 21:26:01.829159</td>\n",
       "    </tr>\n",
       "    <tr>\n",
       "      <th>9</th>\n",
       "      <td>12</td>\n",
       "      <td>06111</td>\n",
       "      <td>Ventura</td>\n",
       "      <td>75.2</td>\n",
       "      <td>True</td>\n",
       "      <td>2022-11-25 22:54:28.716321</td>\n",
       "      <td>2022-11-25 21:26:01.829159</td>\n",
       "    </tr>\n",
       "  </tbody>\n",
       "</table>\n",
       "</div>"
      ],
      "text/plain": [
       "   id fips_code     county_name temperature  fahrenheit  \\\n",
       "0   3     06075   San Francisco        53.7        True   \n",
       "1   4     06071  San Bernardino        82.0        True   \n",
       "2   5     06107          Tulare        72.7        True   \n",
       "3   6     06001         Alameda        66.2        True   \n",
       "4   7     06035          Lassen        67.8        True   \n",
       "5   8     06113            Yolo        83.2        True   \n",
       "6   9     06063          Plumas        70.8        True   \n",
       "7  10     06073       San Diego        76.7        True   \n",
       "8  11     06059          Orange        73.2        True   \n",
       "9  12     06111         Ventura        75.2        True   \n",
       "\n",
       "                  updated_at                 created_at  \n",
       "0 2022-11-25 22:54:28.716321 2022-11-25 21:26:01.829159  \n",
       "1 2022-11-25 22:54:28.716321 2022-11-25 21:26:01.829159  \n",
       "2 2022-11-25 22:54:28.716321 2022-11-25 21:26:01.829159  \n",
       "3 2022-11-25 22:54:28.716321 2022-11-25 21:26:01.829159  \n",
       "4 2022-11-25 22:54:28.716321 2022-11-25 21:26:01.829159  \n",
       "5 2022-11-25 22:54:28.716321 2022-11-25 21:26:01.829159  \n",
       "6 2022-11-25 22:54:28.716321 2022-11-25 21:26:01.829159  \n",
       "7 2022-11-25 22:54:28.716321 2022-11-25 21:26:01.829159  \n",
       "8 2022-11-25 22:54:28.716321 2022-11-25 21:26:01.829159  \n",
       "9 2022-11-25 22:54:28.716321 2022-11-25 21:26:01.829159  "
      ]
     },
     "execution_count": 20,
     "metadata": {},
     "output_type": "execute_result"
    }
   ],
   "source": [
    "sql = \"SELECT * FROM california.weather_county;\"\n",
    "df = fetch_results(sql=sql, conn=conn)\n",
    "df.head(10)"
   ]
  },
  {
   "cell_type": "code",
   "execution_count": null,
   "metadata": {},
   "outputs": [],
   "source": []
  },
  {
   "cell_type": "code",
   "execution_count": null,
   "metadata": {},
   "outputs": [],
   "source": []
  },
  {
   "cell_type": "code",
   "execution_count": null,
   "metadata": {},
   "outputs": [],
   "source": []
  }
 ],
 "metadata": {
  "kernelspec": {
   "display_name": "Python 3.10.6 ('psql_tutorial')",
   "language": "python",
   "name": "python3"
  },
  "language_info": {
   "codemirror_mode": {
    "name": "ipython",
    "version": 3
   },
   "file_extension": ".py",
   "mimetype": "text/x-python",
   "name": "python",
   "nbconvert_exporter": "python",
   "pygments_lexer": "ipython3",
   "version": "3.10.6"
  },
  "orig_nbformat": 4,
  "vscode": {
   "interpreter": {
    "hash": "efd12a4f869bcc27cd9cdce8a660fbaed1d150e1d85bd9a36a532b135a54a3b2"
   }
  }
 },
 "nbformat": 4,
 "nbformat_minor": 2
}
