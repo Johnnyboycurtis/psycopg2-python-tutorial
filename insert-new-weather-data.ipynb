{
 "cells": [
  {
   "cell_type": "markdown",
   "metadata": {},
   "source": [
    "# Insert new data into texas.weather_county\n",
    "\n",
    "New data was found! Insert it into the table"
   ]
  },
  {
   "cell_type": "code",
   "execution_count": null,
   "metadata": {},
   "outputs": [],
   "source": [
    "import psycopg2\n",
    "import pandas as pd\n",
    "from aws_secrets import get_secret"
   ]
  },
  {
   "cell_type": "code",
   "execution_count": null,
   "metadata": {},
   "outputs": [],
   "source": []
  },
  {
   "cell_type": "code",
   "execution_count": null,
   "metadata": {},
   "outputs": [],
   "source": [
    "def create_rw_conn(secrets):\n",
    "    # pass along secrets to pyscopg2\n",
    "    ENDPOINT = secrets['ENDPOINT']\n",
    "    PORT = secrets['PORT']\n",
    "    USER = secrets['USER']\n",
    "    PASSWORD = secrets['PASSWORD']\n",
    "    DATABASE = secrets['DATABASE']\n",
    "    \n",
    "    # create connection string    \n",
    "    conn = psycopg2.connect(host=ENDPOINT, port=PORT, user=USER, \n",
    "        database=DATABASE, password=PASSWORD, sslmode='prefer', \n",
    "        sslrootcert=\"[full path]rds-combined-ca-bundle.pem\")\n",
    "    return conn\n",
    "\n",
    "\n",
    "def fetch_results(sql, conn):\n",
    "    cur = conn.cursor()\n",
    "    cur.execute(sql)\n",
    "    columns = [desc[0] for desc in cur.description]\n",
    "    df = pd.DataFrame(cur.fetchall(), columns=columns)\n",
    "    cur.close()\n",
    "    return df\n"
   ]
  },
  {
   "cell_type": "code",
   "execution_count": null,
   "metadata": {},
   "outputs": [],
   "source": [
    "# connect using a read/write user\n",
    "secrets = get_secret()\n",
    "conn = create_rw_conn(secrets=secrets)"
   ]
  },
  {
   "cell_type": "code",
   "execution_count": null,
   "metadata": {},
   "outputs": [],
   "source": []
  },
  {
   "cell_type": "code",
   "execution_count": null,
   "metadata": {},
   "outputs": [],
   "source": [
    "sql = \"\"\"\n",
    "    INSERT INTO texas.weather_county(fips_code, county_name, temperature)\n",
    "    VALUES ('48129', 'Donley', 69);\n",
    "    \"\"\""
   ]
  },
  {
   "cell_type": "code",
   "execution_count": null,
   "metadata": {},
   "outputs": [],
   "source": [
    "cur = conn.cursor()\n",
    "cur.execute(sql)\n",
    "cur.close()"
   ]
  },
  {
   "cell_type": "code",
   "execution_count": null,
   "metadata": {},
   "outputs": [],
   "source": [
    "conn.close()\n",
    "conn = create_rw_conn(secrets=secrets)"
   ]
  },
  {
   "cell_type": "code",
   "execution_count": null,
   "metadata": {},
   "outputs": [],
   "source": [
    "sql = \"SELECT * FROM texas.weather_county;\"\n",
    "df = fetch_results(sql=sql, conn=conn)\n",
    "df.head(10)"
   ]
  },
  {
   "cell_type": "code",
   "execution_count": null,
   "metadata": {},
   "outputs": [],
   "source": []
  },
  {
   "cell_type": "markdown",
   "metadata": {},
   "source": [
    "## UPSERT: INSERT/UPDATE\n",
    "\n",
    "Insert new records, and update existing records"
   ]
  },
  {
   "cell_type": "code",
   "execution_count": null,
   "metadata": {},
   "outputs": [],
   "source": [
    "sql = \"\"\"\n",
    "    INSERT INTO texas.weather_county(fips_code, county_name, temperature)\n",
    "    VALUES ('48113', 'Dallas', 66), ('48225', 'Houston', 66), ('48023', 'Baylor', 66), ('48251', 'Johnson', 66)\n",
    "    ON CONFLICT (fips_code) DO UPDATE\n",
    "    SET\n",
    "        temperature=excluded.temperature,\n",
    "        updated_at=NOW()\n",
    "    ;\n",
    "    \"\"\""
   ]
  },
  {
   "cell_type": "code",
   "execution_count": null,
   "metadata": {},
   "outputs": [],
   "source": [
    "cur = conn.cursor()\n",
    "cur.execute(sql)\n",
    "\n",
    "conn.commit()\n",
    "\n",
    "cur.close()\n"
   ]
  },
  {
   "cell_type": "code",
   "execution_count": null,
   "metadata": {},
   "outputs": [],
   "source": [
    "sql = \"SELECT * FROM texas.weather_county;\"\n",
    "df = fetch_results(sql=sql, conn=conn)\n",
    "df.head(10)"
   ]
  },
  {
   "cell_type": "code",
   "execution_count": null,
   "metadata": {},
   "outputs": [],
   "source": [
    "conn.close()"
   ]
  }
 ],
 "metadata": {
  "kernelspec": {
   "display_name": "Python 3.10.6 ('psql_tutorial')",
   "language": "python",
   "name": "python3"
  },
  "language_info": {
   "codemirror_mode": {
    "name": "ipython",
    "version": 3
   },
   "file_extension": ".py",
   "mimetype": "text/x-python",
   "name": "python",
   "nbconvert_exporter": "python",
   "pygments_lexer": "ipython3",
   "version": "3.10.6"
  },
  "orig_nbformat": 4,
  "vscode": {
   "interpreter": {
    "hash": "efd12a4f869bcc27cd9cdce8a660fbaed1d150e1d85bd9a36a532b135a54a3b2"
   }
  }
 },
 "nbformat": 4,
 "nbformat_minor": 2
}
